{
 "cells": [
  {
   "cell_type": "markdown",
   "id": "ea07a4b0-9395-48f8-8838-b5db610991e3",
   "metadata": {},
   "source": [
    "This program is designed to accept x and y data as an input, as well as an uncertainty value for the y-direction, either from a text file, or through manual input, and apply a linefit to the data and graph it as a scatter plot with a 𝐥𝐢𝐧𝐞𝐚𝐫 trendline.\n",
    "The code uses libraries such as NumPy, matplotlib, and SciPy.\n",
    "Heavy use of documentation helped facilitate the making of this program.\n",
    "I think the program works quite efficiently to fit data to a plot, as the NumPy and SciPy programs use very solid math to calculate the trend line. It does get more consistant with more data plots, and less consistient with less plots. I think the design of either a text input or manual input is helpful, and the code looks clean and concise."
   ]
  },
  {
   "cell_type": "code",
   "execution_count": null,
   "id": "213af5f2-3350-4d59-8d5f-6768845cadf2",
   "metadata": {},
   "outputs": [],
   "source": [
    "#dependencies\n",
    "import numpy as np\n",
    "import matplotlib.pyplot as plt\n",
    "from scipy.odr import *"
   ]
  },
  {
   "cell_type": "code",
   "execution_count": null,
   "id": "5c96bf0a-cfd3-488d-8ccd-ab592dcb2cbc",
   "metadata": {
    "editable": true,
    "slideshow": {
     "slide_type": ""
    },
    "tags": []
   },
   "outputs": [],
   "source": [
    "#importing example data from text file, using numpy to sort into three seperate arrays, displaying the arrays afterward for confirmation\n",
    "x=np.loadtxt(\"C:/Users/Oran1/OneDrive - University of Kansas/Research/datav3.txt\",dtype='float',usecols=[0])\n",
    "y=np.loadtxt(\"C:/Users/Oran1/OneDrive - University of Kansas/Research/datav3.txt\",dtype='float',usecols=[1])\n",
    "yerr=np.loadtxt(\"C:/Users/Oran1/OneDrive - University of Kansas/Research/datav3.txt\",dtype='float',usecols=[2])\n",
    "print(\"x =\",x,str(\"\\n\"),\"y =\",y,str(\"\\n\"),\"y-error =\",yerr,str(\"\\n\"))"
   ]
  },
  {
   "cell_type": "code",
   "execution_count": null,
   "id": "04207691-f1e4-4588-aced-708cc0bb6d6d",
   "metadata": {
    "editable": true,
    "slideshow": {
     "slide_type": ""
    },
    "tags": []
   },
   "outputs": [],
   "source": [
    "#feeding example data into polyfit\n",
    "trend=np.polyfit(x,y,1)\n",
    "trendpoly=np.poly1d(trend)"
   ]
  },
  {
   "cell_type": "markdown",
   "id": "4ced08b5-801d-4d38-bf84-acbf5f655591",
   "metadata": {},
   "source": [
    "Polyfit is a numpy program designed to fit a line to data (albeit without the ability to use error uncertanties).\n",
    "Parameters for polyfit(x,y,#)\r\n",
    "x = Array of x values, y = Array of y values, # = Polynomial degree"
   ]
  },
  {
   "cell_type": "code",
   "execution_count": null,
   "id": "6e0d7667-0c54-4879-8b08-38357d3a78ee",
   "metadata": {
    "editable": true,
    "slideshow": {
     "slide_type": ""
    },
    "tags": []
   },
   "outputs": [],
   "source": [
    "#using matplotlib to plot the fit line and raw data on a graph\n",
    "plt.plot(x,y,'o')\n",
    "plt.plot(x,trendpoly(x))\n",
    "print(\"Trendline: y=\"+str(trend[0])+\"x+\"+str(trend[1]))"
   ]
  },
  {
   "cell_type": "code",
   "execution_count": null,
   "id": "efae8059-838d-4eea-ab9b-0884f7112984",
   "metadata": {},
   "outputs": [],
   "source": [
    "#pushing data into a SciPy's ODR line-fitting program (which supports uncertainty) in line fitting\n",
    "data = RealData(x, y, sy=yerr)\n",
    "odr = ODR(data, model=unilinear)\n",
    "output = odr.run()\n",
    "slope, intercept = output.beta\n",
    "output.pprint()"
   ]
  },
  {
   "cell_type": "markdown",
   "id": "60298479-072a-4035-8d7f-dd3c6ce24e82",
   "metadata": {},
   "source": [
    "Parameters for ODR(data, model)\n",
    "data = data input as an RealData set of array's, model = model for fit (exponential/quadratic/unilinear"
   ]
  },
  {
   "cell_type": "code",
   "execution_count": null,
   "id": "8c66c04f-1106-47d4-afe4-b9152ff5793b",
   "metadata": {},
   "outputs": [],
   "source": [
    "def linear_func(p, x):\n",
    "   m, c = p\n",
    "   return m*x + c\n",
    "linear_model = Model(linear_func)"
   ]
  },
  {
   "cell_type": "code",
   "execution_count": null,
   "id": "d5073a9e-0299-445b-a29c-fa7d00e96343",
   "metadata": {},
   "outputs": [],
   "source": [
    "#translating ODR data into plottable format\n",
    "x_fit = np.linspace(x[0], x[-1])\n",
    "y_fit = linear_func(output.beta, x_fit)"
   ]
  },
  {
   "cell_type": "code",
   "execution_count": null,
   "id": "7d78bf47-45cd-4f22-9e5b-052f96cdcb95",
   "metadata": {},
   "outputs": [],
   "source": [
    "#plotting ODR data on a graph with error bars and an adapted line\n",
    "plt.scatter(x,y)\n",
    "plt.errorbar(x, y, yerr = yerr, fmt ='o')\n",
    "plt.plot(x_fit, y_fit)\n",
    "print(\"Trendline: y=\"+str(slope)+\"x+\"+str(intercept))\n",
    "plt.show()"
   ]
  },
  {
   "cell_type": "markdown",
   "id": "e6f75f41-57ed-468b-ba8a-bddb5d0dc859",
   "metadata": {},
   "source": [
    "This is the full program using ideas I learned from the previous segments."
   ]
  },
  {
   "cell_type": "code",
   "execution_count": null,
   "id": "e663ef22-f906-4db7-b64f-6c0c2b32bec0",
   "metadata": {},
   "outputs": [],
   "source": [
    "#dependancies\n",
    "import numpy as np\n",
    "import matplotlib.pyplot as plt\n",
    "from scipy.odr import *\n",
    "#using an if segment to let the user choose a method of data entry\n",
    "inp = input(\"Type 'file' to input a file named input.txt as data, or 'manual' to manually enter data.\")\n",
    "if inp == \"file\":\n",
    "    usrx=np.loadtxt(\"C:/Users/Oran1/OneDrive - University of Kansas/Research/input.txt\",dtype='float',usecols=[0])\n",
    "    usry=np.loadtxt(\"C:/Users/Oran1/OneDrive - University of Kansas/Research/input.txt\",dtype='float',usecols=[1])\n",
    "    usryerr=np.loadtxt(\"C:/Users/Oran1/OneDrive - University of Kansas/Research/input.txt\",dtype='float',usecols=[2])\n",
    "    print(\"x =\",usrx,str(\"\\n\"),\"y =\",usry,str(\"\\n\"),\"y-error =\",usryerr,str(\"\\n\"))\n",
    "#segment for ODR line fitting for text file data\n",
    "    data = RealData(usrx, usry, sy=usryerr)\n",
    "    odr = ODR(data, model=unilinear)\n",
    "    output = odr.run()\n",
    "    slope, intercept = output.beta\n",
    "    output.pprint()\n",
    "    def linear_func(p, x):\n",
    "       m, c = p\n",
    "       return m*x + c\n",
    "    linear_model = Model(linear_func)\n",
    "    x_fit = np.linspace(usrx[0], usrx[-1])\n",
    "    y_fit = linear_func(output.beta, x_fit)\n",
    "    #plots fitted data on a graph with a trendline\n",
    "    plt.scatter(usrx,usry)\n",
    "    plt.errorbar(usrx, usry, yerr = usryerr, fmt ='o')\n",
    "    plt.plot(x_fit, y_fit)\n",
    "    print(\"Trendline: y=\"+str(slope)+\"x+\"+str(intercept))\n",
    "    plt.show()\n",
    "    elif inp == \"manual\":\n",
    "#translates three user inputs of data into three seperate arrays for data conversion and fitting \n",
    "    usrx = np.array(input(\"Input X values: (int32 seperated by spaces)\").split(), dtype='float')\n",
    "    print(\"x = \"+str(usrx))\n",
    "    usry = np.array(input(\"Input Y values: (int32 seperated by spaces)\").split(), dtype='float')\n",
    "    print(\"y = \"+str(usry))\n",
    "    usryerr = np.array(input(\"Input Y-error values: (int32 seperated by spaces)\").split(), dtype='float')\n",
    "    print(\"dy = \"+str(usryerr))\n",
    "#segment for ODR line fitting for input data\n",
    "    data = RealData(usrx, usry, sy=usryerr)\n",
    "    odr = ODR(data, model=unilinear)\n",
    "    output = odr.run()\n",
    "    slope, intercept = output.beta\n",
    "    output.pprint()\n",
    "#translates ODR output into usable format\n",
    "    def linear_func(p, x):\n",
    "       m, c = p\n",
    "       return m*x + c\n",
    "    linear_model = Model(linear_func)\n",
    "    x_fit = np.linspace(usrx[0], usrx[-1])\n",
    "    y_fit = linear_func(output.beta, x_fit)\n",
    "    #plots fitted data on a graph with a trendline\n",
    "    plt.scatter(usrx,usry)\n",
    "    plt.errorbar(usrx, usry, yerr = usryerr, fmt ='o')\n",
    "    plt.plot(x_fit, y_fit)\n",
    "    print(\"Trendline: y=\"+str(slope)+\"x+\"+str(intercept))\n",
    "    plt.show()\n",
    "#error segment for nonaccepted input\n",
    "else:\n",
    "   print('Error! Please type either \"file\" or \"manual\"')\n"
   ]
  },
  {
   "cell_type": "code",
   "execution_count": null,
   "id": "a6c270ce-ec35-4397-8b3a-95b4e933292e",
   "metadata": {},
   "outputs": [],
   "source": [
    "import fit\n",
    "fit.fitline()"
   ]
  },
  {
   "cell_type": "code",
   "execution_count": null,
   "id": "c2d43b50-81ee-40b7-84d3-5a4418faa490",
   "metadata": {},
   "outputs": [],
   "source": []
  },
  {
   "cell_type": "code",
   "execution_count": null,
   "id": "83a3cf05-c3cc-40f5-a17c-229b658ebc1c",
   "metadata": {},
   "outputs": [],
   "source": []
  }
 ],
 "metadata": {
  "kernelspec": {
   "display_name": "Python 3 (ipykernel)",
   "language": "python",
   "name": "python3"
  },
  "language_info": {
   "codemirror_mode": {
    "name": "ipython",
    "version": 3
   },
   "file_extension": ".py",
   "mimetype": "text/x-python",
   "name": "python",
   "nbconvert_exporter": "python",
   "pygments_lexer": "ipython3",
   "version": "3.12.1"
  }
 },
 "nbformat": 4,
 "nbformat_minor": 5
}
